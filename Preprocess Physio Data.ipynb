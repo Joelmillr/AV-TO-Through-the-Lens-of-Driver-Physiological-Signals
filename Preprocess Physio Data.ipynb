{
 "cells": [
  {
   "cell_type": "code",
   "execution_count": 1,
   "metadata": {},
   "outputs": [],
   "source": [
    "import os\n",
    "import numpy as np\n",
    "import pandas as pd\n",
    "import neurokit2 as nk"
   ]
  },
  {
   "cell_type": "markdown",
   "metadata": {},
   "source": [
    "## Segment and Save the Physiological Data for Each Participant"
   ]
  },
  {
   "cell_type": "markdown",
   "metadata": {},
   "source": [
    "This notebook segments each participants physiological data into their 3 seperate sections: baseline, driving, and experiment. "
   ]
  },
  {
   "cell_type": "markdown",
   "metadata": {},
   "source": [
    "<div style=\"text-align:center;\">\n",
    "    <img src='./photos/Segment and Save Physio Data.png' style=\"width:700px;\">\n",
    "</div>"
   ]
  },
  {
   "cell_type": "markdown",
   "metadata": {},
   "source": [
    "# EXP2"
   ]
  },
  {
   "cell_type": "markdown",
   "metadata": {},
   "source": [
    "### Environment Variables"
   ]
  },
  {
   "cell_type": "code",
   "execution_count": 2,
   "metadata": {},
   "outputs": [],
   "source": [
    "# Paths\n",
    "exp2_driving_data_folder = \"./AdVitam/Exp2/Raw/Driving\"\n",
    "exp2_physio_data_folder = \"./AdVitam/Exp2/Raw/Physio/Txt\"\n",
    "exp2_processed_physio_folder_path = \"./Physiological Preprocessed/Exp2\"\n",
    "\n",
    "# Participants seem to have issues with there physiological data\n",
    "exp2_drivers_to_exclude = [\"NST77\", \"NST11\", \"ST22\", \"NST87\", \"ST14\", \"ST12\", \"NST73\", \"ST10\"]\n",
    "\n",
    "# Obstacles\n",
    "exp2_obstacles = {\n",
    "    \"Obs1\": \"Deer\",\n",
    "    \"Obs2\": \"Cone\",\n",
    "    \"Obs3\": \"Frog\",\n",
    "    \"Obs4\": \"Can\",\n",
    "    \"Obs5\": [\"FA1\", \"FA2\"],\n",
    "}"
   ]
  },
  {
   "cell_type": "markdown",
   "metadata": {},
   "source": [
    "### Comparing Driving and Physiological Data"
   ]
  },
  {
   "cell_type": "code",
   "execution_count": 3,
   "metadata": {},
   "outputs": [
    {
     "name": "stdout",
     "output_type": "stream",
     "text": [
      "Drivers to exclude: ['NST11', 'NST73', 'NST77', 'NST87', 'NST91', 'ST10', 'ST12', 'ST14', 'ST22', 'ST60', 'ST84']\n"
     ]
    }
   ],
   "source": [
    "# Read every file in the Driving folder\n",
    "driving_files = [file for file in os.listdir(exp2_driving_data_folder) if file.endswith(\".txt\")]\n",
    "\n",
    "# Read every file in the Physio folder that is not a -markers file\n",
    "physio_files = [\n",
    "    file\n",
    "    for file in os.listdir(exp2_physio_data_folder)\n",
    "    if file.endswith(\".txt\") and not file.endswith(\"-markers.txt\")\n",
    "]\n",
    "\n",
    "# Initialize\n",
    "drivers_to_exclude = []\n",
    "\n",
    "# Check for missing files\n",
    "for file in physio_files:\n",
    "    if file not in driving_files:\n",
    "        drivers_to_exclude.append(file.replace(\".txt\", \"\"))\n",
    "\n",
    "for file in driving_files:\n",
    "    if file not in physio_files:\n",
    "        drivers_to_exclude.append(file.replace(\".txt\", \"\"))\n",
    "\n",
    "# Add exp2 drivers to exclude\n",
    "drivers_to_exclude.extend(exp2_drivers_to_exclude)\n",
    "\n",
    "# Remove duplicates and sort the list\n",
    "drivers_to_exclude = sorted(list(set(drivers_to_exclude)))\n",
    "\n",
    "print(f\"Drivers to exclude: {drivers_to_exclude}\")"
   ]
  },
  {
   "cell_type": "markdown",
   "metadata": {},
   "source": [
    "## Physiological Data, Markers & Timestamps"
   ]
  },
  {
   "cell_type": "markdown",
   "metadata": {},
   "source": [
    "### Data Description\n",
    "- See [Data Sturcture](#advitam-data-structure) for an illustrative overview of the AdVitam Dataset\n",
    "\n",
    "**Physiological Data:**\n",
    "| Feature | Description            | Notes  |\n",
    "| ------- | ---------------------- | ------ |\n",
    "| min     | Time Elapsed           | mins |\n",
    "| ECG     | Electrocardiogram      | 1000Hz |\n",
    "| EDA     | Electrodermal Activity | 1000Hz |\n",
    "| RESP    | Resperatory            | 1000Hz |\n",
    "\n",
    "**Markers:**\n",
    "\n",
    "Contains the timestamps for each period of the experiment.\n",
    "\n",
    "- Training1 = Baseline phase\n",
    "- Training2 = Practice phase in the driving simulator\n",
    "- Driving = Main driving session in conditionally automated driving.\n",
    "\n",
    "Be careful, the timestamps are here in seconds while they are in minutes in the raw data.\n",
    "\n",
    "**Driving Timestamps:**\n",
    "\n",
    "Time elapsed (in seconds) between the start of the main driving session and the appearance of the obstacles.\n",
    "\n",
    "- TrigObsX: the time when the driver pressed the button to report having understood the situation\n",
    "- DetObsX: and the time when the driver actually took over control\n",
    "- RepObsX: X corresponds to one of obstacle or the false alarm.\n",
    "\n"
   ]
  },
  {
   "cell_type": "markdown",
   "metadata": {},
   "source": [
    "### Physiological Data"
   ]
  },
  {
   "cell_type": "markdown",
   "metadata": {},
   "source": [
    "- Store the physio data and markers for each participant in a dictionary"
   ]
  },
  {
   "cell_type": "code",
   "execution_count": 4,
   "metadata": {},
   "outputs": [],
   "source": [
    "# create dictionary\n",
    "phsyiological_data_dictionary = {}\n",
    "\n",
    "# loop through files\n",
    "for filename in os.listdir(exp2_physio_data_folder):\n",
    "    # exclude participants\n",
    "    if (\n",
    "        filename.replace(\".txt\", \"\") in drivers_to_exclude\n",
    "        or filename.replace(\"-markers.txt\", \"\") in drivers_to_exclude\n",
    "    ):\n",
    "        continue\n",
    "\n",
    "    # read file\n",
    "    file_path = os.path.join(exp2_physio_data_folder, filename)\n",
    "\n",
    "    # markers\n",
    "    if \"-markers\" in filename:\n",
    "        phsyiological_data_dictionary[filename.replace(\".txt\", \"\")] = pd.read_csv(\n",
    "            file_path, header=2, sep=\"\\t\"\n",
    "        )\n",
    "    # physiological data\n",
    "    else:\n",
    "        driver_data = pd.read_csv(\n",
    "            file_path,\n",
    "            sep=\"\\t\",\n",
    "            header=9,\n",
    "            skiprows=[10],\n",
    "            usecols=[0, 1, 2, 3],\n",
    "        )\n",
    "\n",
    "        # add to dictionary\n",
    "        phsyiological_data_dictionary[filename.replace(\".txt\", \"\")] = driver_data"
   ]
  },
  {
   "cell_type": "markdown",
   "metadata": {},
   "source": [
    "- Return a random participant from a dictionary"
   ]
  },
  {
   "cell_type": "code",
   "execution_count": 5,
   "metadata": {},
   "outputs": [
    {
     "data": {
      "text/html": [
       "<div>\n",
       "<style scoped>\n",
       "    .dataframe tbody tr th:only-of-type {\n",
       "        vertical-align: middle;\n",
       "    }\n",
       "\n",
       "    .dataframe tbody tr th {\n",
       "        vertical-align: top;\n",
       "    }\n",
       "\n",
       "    .dataframe thead th {\n",
       "        text-align: right;\n",
       "    }\n",
       "</style>\n",
       "<table border=\"1\" class=\"dataframe\">\n",
       "  <thead>\n",
       "    <tr style=\"text-align: right;\">\n",
       "      <th></th>\n",
       "      <th>Marker Index:</th>\n",
       "      <th>Time(sec.):</th>\n",
       "      <th>Label:</th>\n",
       "    </tr>\n",
       "  </thead>\n",
       "  <tbody>\n",
       "    <tr>\n",
       "      <th>0</th>\n",
       "      <td>Event 1:</td>\n",
       "      <td>436.490</td>\n",
       "      <td>Training 1 Start, 15:47:19</td>\n",
       "    </tr>\n",
       "    <tr>\n",
       "      <th>1</th>\n",
       "      <td>Event 2:</td>\n",
       "      <td>736.985</td>\n",
       "      <td>Training 1 End, 15:52:19</td>\n",
       "    </tr>\n",
       "    <tr>\n",
       "      <th>2</th>\n",
       "      <td>Event 3:</td>\n",
       "      <td>849.310</td>\n",
       "      <td>Training 2 Start, 15:54:11</td>\n",
       "    </tr>\n",
       "    <tr>\n",
       "      <th>3</th>\n",
       "      <td>Event 4:</td>\n",
       "      <td>1149.735</td>\n",
       "      <td>Training 2 End, 15:59:12</td>\n",
       "    </tr>\n",
       "    <tr>\n",
       "      <th>4</th>\n",
       "      <td>Event 5:</td>\n",
       "      <td>1487.915</td>\n",
       "      <td>Driving Start, 16:04:50</td>\n",
       "    </tr>\n",
       "  </tbody>\n",
       "</table>\n",
       "</div>"
      ],
      "text/plain": [
       "  Marker Index:  Time(sec.):                      Label:\n",
       "0      Event 1:      436.490  Training 1 Start, 15:47:19\n",
       "1      Event 2:      736.985    Training 1 End, 15:52:19\n",
       "2      Event 3:      849.310  Training 2 Start, 15:54:11\n",
       "3      Event 4:     1149.735    Training 2 End, 15:59:12\n",
       "4      Event 5:     1487.915     Driving Start, 16:04:50"
      ]
     },
     "execution_count": 5,
     "metadata": {},
     "output_type": "execute_result"
    }
   ],
   "source": [
    "random_key = np.random.choice(list(phsyiological_data_dictionary.keys()))\n",
    "phsyiological_data_dictionary[random_key].head()"
   ]
  },
  {
   "cell_type": "markdown",
   "metadata": {},
   "source": [
    "---\n",
    "# Importing Data + Preprocessing"
   ]
  },
  {
   "cell_type": "markdown",
   "metadata": {},
   "source": [
    "### Importing and Processing Physiological Data"
   ]
  },
  {
   "cell_type": "markdown",
   "metadata": {},
   "source": [
    "- Segment the data into _Baseline_, _Driving_, and _Experiment_ phases"
   ]
  },
  {
   "cell_type": "code",
   "execution_count": 6,
   "metadata": {},
   "outputs": [],
   "source": [
    "columns_to_average = [\n",
    "    \"ECG_Rate\",\n",
    "    \"ECG_Quality\",\n",
    "    \"ECG_Phase_Completion_Atrial\",\n",
    "    \"ECG_Phase_Completion_Ventricular\",\n",
    "    \"RSP_Amplitude\",\n",
    "    \"RSP_Rate\",\n",
    "    \"RSP_RVT\",\n",
    "    \"RSP_Phase_Completion\",\n",
    "    \"RSP_Symmetry_PeakTrough\",\n",
    "    \"RSP_Symmetry_RiseDecay\",\n",
    "    \"EDA_Tonic\",\n",
    "    \"RSA_P2T\",\n",
    "    \"RSA_Gates\",\n",
    "]"
   ]
  },
  {
   "cell_type": "code",
   "execution_count": 7,
   "metadata": {},
   "outputs": [],
   "source": [
    "# storing the marker keys to be removed\n",
    "marker_keys = []\n",
    "\n",
    "# loop through each driver\n",
    "for driver in phsyiological_data_dictionary.keys():\n",
    "    if driver.endswith(\"-markers\"):\n",
    "        continue\n",
    "\n",
    "    # get driver data\n",
    "    driver_data = phsyiological_data_dictionary[driver]\n",
    "    markers = phsyiological_data_dictionary[driver + \"-markers\"]\n",
    "\n",
    "    # convert to timedelta\n",
    "    driver_data[\"min\"] = pd.to_timedelta(driver_data[\"min\"], unit=\"m\")\n",
    "    driver_data = driver_data.rename(columns={\"min\": \"Time\"})\n",
    "\n",
    "    # trim to the experiment\n",
    "    driver_data = driver_data[\n",
    "        (driver_data[\"Time\"] >= pd.to_timedelta(markers[\"Time(sec.):\"][0], unit=\"s\"))\n",
    "        & (driver_data[\"Time\"] <= pd.to_timedelta(markers[\"Time(sec.):\"][5], unit=\"s\"))\n",
    "    ]\n",
    "\n",
    "    # Resample the data to 1000 Hz\n",
    "    driver_data = driver_data.set_index(\"Time\")\n",
    "    resampled_data = pd.DataFrame()\n",
    "    for column in driver_data.columns:\n",
    "        if column in columns_to_average:\n",
    "            resampled_data[column] = driver_data[column].resample(\"1ms\").mean()\n",
    "            resampled_data[column] = resampled_data[column].interpolate()\n",
    "        else:\n",
    "            resampled_data[column] = driver_data[column].resample(\"1ms\").max()\n",
    "            resampled_data[column] = resampled_data[column].interpolate(method=\"ffill\")\n",
    "    driver_data = resampled_data\n",
    "\n",
    "    # Reset the index\n",
    "    driver_data = driver_data.reset_index()\n",
    "\n",
    "    # Preprocessing the data with NeuroKit\n",
    "    signals, _ = nk.bio_process(\n",
    "        eda=driver_data[\"CH1\"],\n",
    "        ecg=driver_data[\"CH2\"],\n",
    "        rsp=driver_data[\"CH3\"],\n",
    "        sampling_rate=1000,\n",
    "    )\n",
    "\n",
    "    # Add the preprocessed data to the driver data\n",
    "    driver_data = pd.concat([driver_data, signals], axis=1)\n",
    "\n",
    "    # Set the time as the index\n",
    "    driver_data = driver_data.set_index(\"Time\")\n",
    "\n",
    "    # Baseline Data\n",
    "    driver_baseline_data = driver_data[\n",
    "        (driver_data.index >= pd.to_timedelta(markers[\"Time(sec.):\"][0], unit=\"s\"))\n",
    "        & (driver_data.index <= pd.to_timedelta(markers[\"Time(sec.):\"][1], unit=\"s\"))\n",
    "    ].copy()\n",
    "\n",
    "    # Driving Data\n",
    "    driver_experiment_data = driver_data[\n",
    "        (driver_data.index >= pd.to_timedelta(markers[\"Time(sec.):\"][4], unit=\"s\"))\n",
    "        & (driver_data.index <= pd.to_timedelta(markers[\"Time(sec.):\"][5], unit=\"s\"))\n",
    "    ].copy()\n",
    "\n",
    "    # reset the index to start from 0 at the beginning of the experiment\n",
    "    driver_experiment_data.index = driver_experiment_data.index - driver_experiment_data.index[0]\n",
    "\n",
    "    # replacing the dictionary value with segmented data\n",
    "    phsyiological_data_dictionary[driver] = {}\n",
    "\n",
    "    # Save the data\n",
    "    os.makedirs(exp2_processed_physio_folder_path, exist_ok=True)\n",
    "    driver_baseline_data.to_csv(\n",
    "        os.path.join(exp2_processed_physio_folder_path, driver + \"_baseline.csv\")\n",
    "    )\n",
    "    driver_experiment_data.to_csv(\n",
    "        os.path.join(exp2_processed_physio_folder_path, driver + \"_driving.csv\")\n",
    "    )\n",
    "\n",
    "    # storing the marker keys to be removed\n",
    "    marker_keys.append(driver + \"-markers\")\n",
    "\n",
    "# Delete marker data\n",
    "for marker_key in marker_keys:\n",
    "    del phsyiological_data_dictionary[marker_key]"
   ]
  },
  {
   "cell_type": "markdown",
   "metadata": {},
   "source": [
    "---"
   ]
  },
  {
   "cell_type": "markdown",
   "metadata": {},
   "source": [
    "# EXP3"
   ]
  },
  {
   "cell_type": "markdown",
   "metadata": {},
   "source": [
    "## Environment Variables"
   ]
  },
  {
   "cell_type": "code",
   "execution_count": 2,
   "metadata": {},
   "outputs": [],
   "source": [
    "# Paths\n",
    "exp3_driving_data_folder = \"./AdVitam/Exp3/Raw/Driving\"\n",
    "exp3_physio_data_folder = \"./AdVitam/Exp3/Raw/Physio/Txt\"\n",
    "exp3_processed_physio_folder_path = \"./Physiological Preprocessed/Exp3\""
   ]
  },
  {
   "cell_type": "markdown",
   "metadata": {},
   "source": [
    "### Comparing Driving and Physiological Data"
   ]
  },
  {
   "cell_type": "code",
   "execution_count": 3,
   "metadata": {},
   "outputs": [
    {
     "name": "stdout",
     "output_type": "stream",
     "text": [
      "Drivers to exclude: ['LA77', 'LNA44', 'LNA64', 'NLA90', 'NLA95']\n"
     ]
    }
   ],
   "source": [
    "# Read every file in the Driving folder\n",
    "driving_files = [file.replace(\"_Baseline\", \"\") for file in os.listdir(exp3_driving_data_folder) if file.endswith(\"_Baseline.txt\")]\n",
    "\n",
    "# Read every file in the Physio folder that is not a -markers file\n",
    "physio_files = [\n",
    "    file\n",
    "    for file in os.listdir(exp3_physio_data_folder)\n",
    "    if file.endswith(\".txt\") and not file.endswith(\"-markers.txt\")\n",
    "]\n",
    "\n",
    "\n",
    "# Initialize\n",
    "# drivers_to_exclude = [\"LNA48\"]\n",
    "drivers_to_exclude = []\n",
    "\n",
    "# Check for missing files\n",
    "for file in physio_files:\n",
    "    if file not in driving_files:\n",
    "        drivers_to_exclude.append(file.replace(\".txt\", \"\"))\n",
    "\n",
    "for file in driving_files:\n",
    "    if file not in physio_files:\n",
    "        drivers_to_exclude.append(file.replace(\".txt\", \"\"))\n",
    "\n",
    "# Remove duplicates and sort the list\n",
    "drivers_to_exclude = sorted(list(set(drivers_to_exclude)))\n",
    "\n",
    "# add additional drivers to exclude\n",
    "drivers_to_exclude.extend([\"NLNA52\", \"NLNA44\", \"NLA64\", \"NLNA33\"])\n",
    "\n",
    "print(f\"Drivers to exclude: {drivers_to_exclude}\")"
   ]
  },
  {
   "cell_type": "markdown",
   "metadata": {},
   "source": [
    "## Physiological Data, Markers & Timestamps"
   ]
  },
  {
   "cell_type": "code",
   "execution_count": 4,
   "metadata": {},
   "outputs": [],
   "source": [
    "# create dictionary\n",
    "phsyiological_data_dictionary = {}\n",
    "\n",
    "# loop through files\n",
    "for filename in os.listdir(exp3_physio_data_folder):\n",
    "    # exclude participants\n",
    "    if (\n",
    "        filename.replace(\".txt\", \"\") in drivers_to_exclude\n",
    "        or filename.replace(\"-markers.txt\", \"\") in drivers_to_exclude\n",
    "    ):\n",
    "        continue\n",
    "\n",
    "    # read file\n",
    "    file_path = os.path.join(exp3_physio_data_folder, filename)\n",
    "\n",
    "    # markers\n",
    "    if \"-markers\" in filename:\n",
    "        phsyiological_data_dictionary[filename.replace(\".txt\", \"\")] = pd.read_csv(\n",
    "            file_path, header=5, sep=\"\\t\"\n",
    "        )\n",
    "    # physiological data\n",
    "    else:\n",
    "        driver_data = pd.read_csv(\n",
    "            file_path,\n",
    "            sep=\"\\t\",\n",
    "            header=9,\n",
    "            skiprows=[10],\n",
    "            usecols=[0, 1, 2, 3],\n",
    "        )\n",
    "\n",
    "        # add to dictionary\n",
    "        phsyiological_data_dictionary[filename.replace(\".txt\", \"\")] = driver_data"
   ]
  },
  {
   "cell_type": "markdown",
   "metadata": {},
   "source": [
    "- Return a random participant from a dictionary"
   ]
  },
  {
   "cell_type": "code",
   "execution_count": 5,
   "metadata": {},
   "outputs": [
    {
     "data": {
      "text/html": [
       "<div>\n",
       "<style scoped>\n",
       "    .dataframe tbody tr th:only-of-type {\n",
       "        vertical-align: middle;\n",
       "    }\n",
       "\n",
       "    .dataframe tbody tr th {\n",
       "        vertical-align: top;\n",
       "    }\n",
       "\n",
       "    .dataframe thead th {\n",
       "        text-align: right;\n",
       "    }\n",
       "</style>\n",
       "<table border=\"1\" class=\"dataframe\">\n",
       "  <thead>\n",
       "    <tr style=\"text-align: right;\">\n",
       "      <th></th>\n",
       "      <th>Marker Index:</th>\n",
       "      <th>Time(sec.):</th>\n",
       "      <th>Label:</th>\n",
       "    </tr>\n",
       "  </thead>\n",
       "  <tbody>\n",
       "    <tr>\n",
       "      <th>0</th>\n",
       "      <td>Event 1:</td>\n",
       "      <td>14.985</td>\n",
       "      <td>Baseline Start, 17:40:55</td>\n",
       "    </tr>\n",
       "    <tr>\n",
       "      <th>1</th>\n",
       "      <td>Event 2:</td>\n",
       "      <td>315.610</td>\n",
       "      <td>Baseline End, 17:45:55</td>\n",
       "    </tr>\n",
       "    <tr>\n",
       "      <th>2</th>\n",
       "      <td>Event 3:</td>\n",
       "      <td>404.945</td>\n",
       "      <td>Training Start, 17:47:25</td>\n",
       "    </tr>\n",
       "    <tr>\n",
       "      <th>3</th>\n",
       "      <td>Event 4:</td>\n",
       "      <td>708.640</td>\n",
       "      <td>Training End, 17:52:28</td>\n",
       "    </tr>\n",
       "    <tr>\n",
       "      <th>4</th>\n",
       "      <td>Event 5:</td>\n",
       "      <td>1037.330</td>\n",
       "      <td>Block1 Start, 17:57:57</td>\n",
       "    </tr>\n",
       "  </tbody>\n",
       "</table>\n",
       "</div>"
      ],
      "text/plain": [
       "  Marker Index:  Time(sec.):                    Label:\n",
       "0      Event 1:       14.985  Baseline Start, 17:40:55\n",
       "1      Event 2:      315.610    Baseline End, 17:45:55\n",
       "2      Event 3:      404.945  Training Start, 17:47:25\n",
       "3      Event 4:      708.640    Training End, 17:52:28\n",
       "4      Event 5:     1037.330    Block1 Start, 17:57:57"
      ]
     },
     "execution_count": 5,
     "metadata": {},
     "output_type": "execute_result"
    }
   ],
   "source": [
    "'''Creates a dictionary of the raw physiological data and their markers'''\n",
    "random_key = np.random.choice(list(phsyiological_data_dictionary.keys()))\n",
    "phsyiological_data_dictionary[random_key].head()"
   ]
  },
  {
   "cell_type": "markdown",
   "metadata": {},
   "source": [
    "---\n",
    "# Importing Data + Preprocessing"
   ]
  },
  {
   "cell_type": "code",
   "execution_count": 6,
   "metadata": {},
   "outputs": [],
   "source": [
    "columns_to_average = [\n",
    "    \"ECG_Rate\",\n",
    "    \"ECG_Quality\",\n",
    "    \"ECG_Phase_Completion_Atrial\",\n",
    "    \"ECG_Phase_Completion_Ventricular\",\n",
    "    \"RSP_Amplitude\",\n",
    "    \"RSP_Rate\",\n",
    "    \"RSP_RVT\",\n",
    "    \"RSP_Phase_Completion\",\n",
    "    \"RSP_Symmetry_PeakTrough\",\n",
    "    \"RSP_Symmetry_RiseDecay\",\n",
    "    \"EDA_Tonic\",\n",
    "    \"RSA_P2T\",\n",
    "    \"RSA_Gates\",\n",
    "]"
   ]
  },
  {
   "cell_type": "code",
   "execution_count": 7,
   "metadata": {},
   "outputs": [],
   "source": [
    "# storing the marker keys to be removed\n",
    "marker_keys = []\n",
    "\n",
    "# loop through each driver\n",
    "for driver in phsyiological_data_dictionary.keys():\n",
    "    if driver.endswith(\"-markers\"):\n",
    "        continue\n",
    "\n",
    "    # skip drivers that are in the preprocessed folder\n",
    "    if os.path.exists(\n",
    "        f\"{exp3_processed_physio_folder_path}/{driver}_baseline.csv\"\n",
    "    ):\n",
    "        continue\n",
    "\n",
    "    # get driver data\n",
    "    driver_data = phsyiological_data_dictionary[driver]\n",
    "    markers = phsyiological_data_dictionary[driver + \"-markers\"]\n",
    "\n",
    "    # convert to timedelta\n",
    "    driver_data[\"min\"] = pd.to_timedelta(driver_data[\"min\"], unit=\"m\")\n",
    "    driver_data = driver_data.rename(columns={\"min\": \"Time\"})\n",
    "\n",
    "    # trim to the experiment\n",
    "    driver_data = driver_data[\n",
    "        (driver_data[\"Time\"] >= pd.to_timedelta(markers[\"Time(sec.):\"][0], unit=\"s\"))\n",
    "        & (driver_data[\"Time\"] <= pd.to_timedelta(markers[\"Time(sec.):\"].iloc[-1], unit=\"s\"))\n",
    "    ]\n",
    "\n",
    "    # Resample the data to 1000 Hz\n",
    "    driver_data = driver_data.set_index(\"Time\")\n",
    "    resampled_data = pd.DataFrame()\n",
    "    for column in driver_data.columns:\n",
    "        if column in columns_to_average:\n",
    "            resampled_data[column] = driver_data[column].resample(\"1ms\").mean()\n",
    "            resampled_data[column] = resampled_data[column].interpolate()\n",
    "        else:\n",
    "            resampled_data[column] = driver_data[column].resample(\"1ms\").max()\n",
    "            resampled_data[column] = resampled_data[column].interpolate(method=\"ffill\")\n",
    "    driver_data = resampled_data\n",
    "\n",
    "    # Reset the index\n",
    "    driver_data = driver_data.reset_index()\n",
    "\n",
    "    # Preprocessing the data with NeuroKit\n",
    "    signals, _ = nk.bio_process(\n",
    "        eda=driver_data[\"CH1\"],\n",
    "        ecg=driver_data[\"CH2\"],\n",
    "        rsp=driver_data[\"CH3\"],\n",
    "        sampling_rate=1000,\n",
    "    )\n",
    "\n",
    "    # Add the preprocessed data to the driver data\n",
    "    driver_data = pd.concat([driver_data, signals], axis=1)\n",
    "\n",
    "    # Set the time as the index\n",
    "    driver_data = driver_data.set_index(\"Time\")\n",
    "\n",
    "    # Baseline Data\n",
    "    driver_baseline_data = driver_data[\n",
    "        (driver_data.index >= pd.to_timedelta(markers[markers[\"Label:\"].str.contains(\"Baseline Start\")][\"Time(sec.):\"].values[0], unit=\"s\"))\n",
    "        & (driver_data.index <= pd.to_timedelta(markers[markers[\"Label:\"].str.contains(\"Baseline End\")][\"Time(sec.):\"].values[0], unit=\"s\"))\n",
    "    ].copy()\n",
    "\n",
    "    # Block Data\n",
    "    driver_part_1_data = driver_data[\n",
    "        (driver_data.index >= pd.to_timedelta(markers[markers[\"Label:\"].str.contains(\"Block1 Start\")][\"Time(sec.):\"].values[0], unit=\"s\"))\n",
    "        & (driver_data.index <= pd.to_timedelta(markers[markers[\"Label:\"].str.contains(\"Block2 End\")][\"Time(sec.):\"].values[0], unit=\"s\"))\n",
    "    ].copy()\n",
    "\n",
    "    # Block Data\n",
    "    driver_part_2_data = driver_data[\n",
    "        (driver_data.index >= pd.to_timedelta(markers[markers[\"Label:\"].str.contains(\"Block3 Start\")][\"Time(sec.):\"].values[0], unit=\"s\"))\n",
    "        & (driver_data.index <= pd.to_timedelta(markers[markers[\"Label:\"].str.contains(\"Block5 End\")][\"Time(sec.):\"].values[0], unit=\"s\"))\n",
    "    ].copy()\n",
    "\n",
    "    # reset the index to start from 0 at the beginning of the experiment\n",
    "    driver_part_1_data.index = driver_part_1_data.index - driver_part_1_data.index[0]\n",
    "    driver_part_2_data.index = driver_part_2_data.index - driver_part_2_data.index[0]\n",
    "\n",
    "    # replacing the dictionary value with segmented data\n",
    "    phsyiological_data_dictionary[driver] = {}\n",
    "\n",
    "    os.makedirs(exp3_processed_physio_folder_path, exist_ok=True)\n",
    "    driver_baseline_data.to_csv(\n",
    "        f\"{exp3_processed_physio_folder_path}/{driver}_baseline.csv\"\n",
    "    )\n",
    "    driver_part_1_data.to_csv(\n",
    "        f\"{exp3_processed_physio_folder_path}/{driver}_driving_part1.csv\"\n",
    "    )\n",
    "    driver_part_2_data.to_csv(\n",
    "        f\"{exp3_processed_physio_folder_path}/{driver}_driving_part2.csv\"\n",
    "    )\n",
    "\n",
    "    # storing the marker keys to be removed\n",
    "    marker_keys.append(driver + \"-markers\")\n",
    "\n",
    "# Delete marker data\n",
    "for marker_key in marker_keys:\n",
    "    del phsyiological_data_dictionary[marker_key]"
   ]
  },
  {
   "cell_type": "code",
   "execution_count": null,
   "metadata": {},
   "outputs": [],
   "source": []
  }
 ],
 "metadata": {
  "kernelspec": {
   "display_name": "Python 3",
   "language": "python",
   "name": "python3"
  },
  "language_info": {
   "codemirror_mode": {
    "name": "ipython",
    "version": 3
   },
   "file_extension": ".py",
   "mimetype": "text/x-python",
   "name": "python",
   "nbconvert_exporter": "python",
   "pygments_lexer": "ipython3",
   "version": "3.9.6"
  }
 },
 "nbformat": 4,
 "nbformat_minor": 2
}
